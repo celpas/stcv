{
 "cells": [
  {
   "cell_type": "code",
   "execution_count": null,
   "id": "3a839046-0f9a-489c-9965-2ab13bccbfb1",
   "metadata": {},
   "outputs": [],
   "source": [
    "%pip install python-dotenv"
   ]
  },
  {
   "cell_type": "markdown",
   "id": "ef03974f-207a-48af-9ab6-4569fe72566a",
   "metadata": {},
   "source": [
    "## Load env"
   ]
  },
  {
   "cell_type": "code",
   "execution_count": null,
   "id": "68b4ce45-8513-4f0a-8359-4fca743726e7",
   "metadata": {
    "tags": []
   },
   "outputs": [],
   "source": [
    "from dotenv import dotenv_values\n",
    "\n",
    "config = dotenv_values(\"_configuration.env\")\n",
    "stcv_version = config[\"STCV_VERSION\"]\n",
    "config"
   ]
  },
  {
   "cell_type": "markdown",
   "id": "efb4c7c5-e5ed-4d90-b712-70119811b9ea",
   "metadata": {
    "tags": []
   },
   "source": [
    "## Launch"
   ]
  },
  {
   "cell_type": "code",
   "execution_count": null,
   "id": "05a48f3c-af43-476c-b353-db6a99163ece",
   "metadata": {
    "tags": []
   },
   "outputs": [],
   "source": [
    "%env STCV_HOST_DIR=/home/ec2-user/SageMaker\n",
    "%env STCV_CONTAINER_DIR=/home/ec2-user/SageMaker\n",
    "%env STCV_VERSION={config[\"STCV_VERSION\"]}"
   ]
  },
  {
   "cell_type": "code",
   "execution_count": null,
   "id": "a3eb7ea6-0e7d-4354-869c-824b1900a7ca",
   "metadata": {
    "tags": []
   },
   "outputs": [],
   "source": [
    "!docker run --privileged --env-file ./configuration.env --volume ${STCV_HOST_DIR}:${STCV_CONTAINER_DIR} --network host -it stcv:${STCV_VERSION}"
   ]
  },
  {
   "cell_type": "code",
   "execution_count": null,
   "id": "0bb8c0f9-6a49-41fb-82d6-1d9a1ed6422b",
   "metadata": {
    "tags": []
   },
   "outputs": [],
   "source": [
    "# Create link to /mnt/bucket\n",
    "!ln -s {config[\"STCV_BUCKET_1_MNT_DIR\"]} /mnt/bucket"
   ]
  },
  {
   "cell_type": "markdown",
   "id": "279dface-060f-411c-a150-91f635ba7c76",
   "metadata": {
    "tags": []
   },
   "source": [
    "## Stop container"
   ]
  },
  {
   "cell_type": "code",
   "execution_count": null,
   "id": "a02e6461-3ceb-48ac-8334-89fdc9a623fd",
   "metadata": {
    "tags": []
   },
   "outputs": [],
   "source": [
    "!docker ps -a"
   ]
  },
  {
   "cell_type": "code",
   "execution_count": null,
   "id": "641e2922-7007-4cd1-9a87-c9bba838cea0",
   "metadata": {},
   "outputs": [],
   "source": [
    "container_id = \"<insert_the_container_id>\"\n",
    "!docker stop {container_id}"
   ]
  },
  {
   "cell_type": "code",
   "execution_count": null,
   "id": "058597eb-1446-44d7-9599-9b7789faf7d6",
   "metadata": {},
   "outputs": [],
   "source": []
  }
 ],
 "metadata": {
  "kernelspec": {
   "display_name": "conda_python3",
   "language": "python",
   "name": "conda_python3"
  },
  "language_info": {
   "codemirror_mode": {
    "name": "ipython",
    "version": 3
   },
   "file_extension": ".py",
   "mimetype": "text/x-python",
   "name": "python",
   "nbconvert_exporter": "python",
   "pygments_lexer": "ipython3",
   "version": "3.10.10"
  }
 },
 "nbformat": 4,
 "nbformat_minor": 5
}
