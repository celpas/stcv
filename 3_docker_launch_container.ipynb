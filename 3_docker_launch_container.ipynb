{
 "cells": [
  {
   "cell_type": "code",
   "execution_count": null,
   "id": "3a839046-0f9a-489c-9965-2ab13bccbfb1",
   "metadata": {},
   "outputs": [],
   "source": [
    "%pip install python-dotenv"
   ]
  },
  {
   "cell_type": "markdown",
   "id": "ef03974f-207a-48af-9ab6-4569fe72566a",
   "metadata": {},
   "source": [
    "## Load env"
   ]
  },
  {
   "cell_type": "markdown",
   "id": "987825a8-b845-42d2-a37a-c95bf0299653",
   "metadata": {},
   "source": [
    "Load configuration data from <i>_configuration.env</i>"
   ]
  },
  {
   "cell_type": "code",
   "execution_count": null,
   "id": "68b4ce45-8513-4f0a-8359-4fca743726e7",
   "metadata": {
    "tags": []
   },
   "outputs": [],
   "source": [
    "from dotenv import load_dotenv\n",
    "\n",
    "load_dotenv(\"_configuration.env\")\n",
    "!echo \"STCV version: ${STCV_VERSION}\""
   ]
  },
  {
   "cell_type": "markdown",
   "id": "efb4c7c5-e5ed-4d90-b712-70119811b9ea",
   "metadata": {
    "tags": []
   },
   "source": [
    "## Launch"
   ]
  },
  {
   "cell_type": "markdown",
   "id": "91178f54-89bd-4691-92c2-366b7256a3bf",
   "metadata": {},
   "source": [
    "<b>Launch the container in background</b> with the parameter <code>--detach</code>"
   ]
  },
  {
   "cell_type": "code",
   "execution_count": null,
   "id": "82046b12-ba9c-4122-a093-0140762feeff",
   "metadata": {
    "tags": []
   },
   "outputs": [],
   "source": [
    "!docker run --privileged --env-file ./_configuration.env \\\n",
    "--mount type=bind,source=/home/ec2-user/SageMaker,target=/home/ec2-user/SageMaker,bind-propagation=rshared  \\\n",
    "--detach --network host -it stcv:${STCV_VERSION}"
   ]
  },
  {
   "cell_type": "markdown",
   "id": "d5b409c7-cab7-4143-b438-7cb5042133f7",
   "metadata": {},
   "source": [
    "Create a soft link with <code>ln</code> to <code>/mnt/bucket</code>"
   ]
  },
  {
   "cell_type": "code",
   "execution_count": null,
   "id": "0bb8c0f9-6a49-41fb-82d6-1d9a1ed6422b",
   "metadata": {
    "tags": []
   },
   "outputs": [],
   "source": [
    "!sudo unlink /mnt/bucket\n",
    "!sudo ln -s ${\"STCV_BUCKET_1_MNT_DIR\"} /mnt/bucket"
   ]
  },
  {
   "cell_type": "markdown",
   "id": "fc5c7bb9-13f3-40fd-a75e-9d7e999eb866",
   "metadata": {},
   "source": [
    "Get a <b>list of running/stopped containers</b> with the following command:"
   ]
  },
  {
   "cell_type": "code",
   "execution_count": null,
   "id": "a02e6461-3ceb-48ac-8334-89fdc9a623fd",
   "metadata": {
    "tags": []
   },
   "outputs": [],
   "source": [
    "# List stopped and running containers\n",
    "!docker ps -a | grep stcv"
   ]
  },
  {
   "cell_type": "markdown",
   "id": "553bf0da-da63-49e1-aba6-dc4db40c979b",
   "metadata": {},
   "source": [
    "To <b>get into the container's sheel</b> is sufficient to launch the following command in a new terminal window:<br>\n",
    "<code>docker attach {container_id}</code>"
   ]
  },
  {
   "cell_type": "markdown",
   "id": "2a78b2fb-989a-4381-9298-d5dd5d2a3239",
   "metadata": {},
   "source": [
    "To <b>stop a container</b> put the id below and run the cell"
   ]
  },
  {
   "cell_type": "code",
   "execution_count": null,
   "id": "641e2922-7007-4cd1-9a87-c9bba838cea0",
   "metadata": {},
   "outputs": [],
   "source": [
    "# Stop container\n",
    "container_id = \"<<insert_here_the_container_id>>\"\n",
    "!docker stop {container_id}"
   ]
  },
  {
   "cell_type": "markdown",
   "id": "492b20a4-ebf8-4b2a-b501-9d0bc45b9ff1",
   "metadata": {},
   "source": [
    "To <b>restart a container</b>, run the next cell instead"
   ]
  },
  {
   "cell_type": "code",
   "execution_count": null,
   "id": "894c03db-a843-4a69-8b6c-fcff55e7bc28",
   "metadata": {
    "tags": []
   },
   "outputs": [],
   "source": [
    "!docker start {container_id}"
   ]
  },
  {
   "cell_type": "markdown",
   "id": "0d2950e7",
   "metadata": {},
   "source": [
    "To <b>run automatically</b> the container when the instance starts modify the lifecycle adding at the end <code>docker start {container_id}</code>"
   ]
  },
  {
   "cell_type": "markdown",
   "id": "00956bcc",
   "metadata": {},
   "source": [
    "## Modify .bashrc and pip.conf"
   ]
  },
  {
   "cell_type": "markdown",
   "id": "99fce751",
   "metadata": {},
   "source": [
    "<b>Step 1:</b> edit the files <code>./stcv/configs/bashrc</code> and <code>./stcv/configs/pip.conf</code>"
   ]
  },
  {
   "cell_type": "markdown",
   "id": "a3c1bd47",
   "metadata": {},
   "source": [
    "<b>Step 2:</b> use <code>docker attach {container_id}</code> to open a terminal window or use code-server"
   ]
  },
  {
   "cell_type": "markdown",
   "id": "b3e5ae40",
   "metadata": {},
   "source": [
    "<b>Step 3</b> run the following cell:"
   ]
  },
  {
   "cell_type": "code",
   "execution_count": null,
   "id": "058597eb-1446-44d7-9599-9b7789faf7d6",
   "metadata": {},
   "outputs": [],
   "source": [
    "!sudo chmod +x /home/ec2-user/SageMaker/_stcv/stcv/scripts/replace_bashrc.bash\n",
    "!sudo chmod +x /home/ec2-user/SageMaker/_stcv/stcv/scripts/replace_pip_conf.bash\n",
    "!/home/ec2-user/SageMaker/_stcv/stcv/scripts/replace_bashrc.bash /home/ec2-user/SageMaker/_stcv/stcv/configs/bashrc\n",
    "!/home/ec2-user/SageMaker/_stcv/stcv/scripts/replace_pip_conf.bash /home/ec2-user/SageMaker/_stcv/stcv/configs/pip.conf"
   ]
  }
 ],
 "metadata": {
  "kernelspec": {
   "display_name": "conda_python3",
   "language": "python",
   "name": "conda_python3"
  },
  "language_info": {
   "codemirror_mode": {
    "name": "ipython",
    "version": 3
   },
   "file_extension": ".py",
   "mimetype": "text/x-python",
   "name": "python",
   "nbconvert_exporter": "python",
   "pygments_lexer": "ipython3",
   "version": "3.10.10"
  }
 },
 "nbformat": 4,
 "nbformat_minor": 5
}
