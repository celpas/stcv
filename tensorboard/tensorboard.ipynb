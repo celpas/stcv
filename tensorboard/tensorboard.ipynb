{
 "cells": [
  {
   "cell_type": "code",
   "execution_count": null,
   "id": "142636c0",
   "metadata": {
    "scrolled": true
   },
   "outputs": [],
   "source": [
    "!pip install tensorboard"
   ]
  },
  {
   "cell_type": "code",
   "execution_count": null,
   "id": "3140bc35",
   "metadata": {
    "scrolled": true
   },
   "outputs": [],
   "source": [
    "PORT = 6007\n",
    "!tensorboard --port {PORT} --logdir=s3://..."
   ]
  },
  {
   "cell_type": "code",
   "execution_count": null,
   "id": "5d5e4d06",
   "metadata": {},
   "outputs": [],
   "source": [
    "from IPython.core.display import display, HTML\n",
    "import json\n",
    "\n",
    "log_path = '/opt/ml/metadata/resource-metadata.json'\n",
    "with open(log_path, 'r') as logs:\n",
    "    _logs = json.load(logs)\n",
    "INSTANCE_NAME = _logs['ResourceName']\n",
    "URL = f\"https://{INSTANCE_NAME}.notebook.eu-central-1.sagemaker.aws/proxy/{PORT}/\"\n",
    "\n",
    "display(\n",
    "    HTML(\n",
    "        \"\"\"\n",
    "        <a href=\"{}\" target=\"_blank\"><h1>Open session in a new tab</h1></a>\n",
    "        \"\"\".format(URL)\n",
    "    )\n",
    ")"
   ]
  }
 ],
 "metadata": {
  "kernelspec": {
   "display_name": "Python 3.8.2 ('torch')",
   "language": "python",
   "name": "python3"
  },
  "language_info": {
   "codemirror_mode": {
    "name": "ipython",
    "version": 3
   },
   "file_extension": ".py",
   "mimetype": "text/x-python",
   "name": "python",
   "nbconvert_exporter": "python",
   "pygments_lexer": "ipython3",
   "version": "3.8.2"
  },
  "vscode": {
   "interpreter": {
    "hash": "a3f03ebc105b29fd6bb39b44c341439c9cde9d6127fa0a6bb8b0fcc0900aba74"
   }
  }
 },
 "nbformat": 4,
 "nbformat_minor": 5
}
