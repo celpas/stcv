{
 "cells": [
  {
   "cell_type": "code",
   "execution_count": null,
   "id": "cecb564b-527c-44a7-b7b6-9457d40c2dfb",
   "metadata": {},
   "outputs": [],
   "source": [
    "%pip install fiftyone"
   ]
  },
  {
   "cell_type": "code",
   "execution_count": null,
   "id": "2ee00fd2-59c0-4772-8666-544a98b46fd8",
   "metadata": {
    "tags": []
   },
   "outputs": [],
   "source": [
    "%env FIFTYONE_DATABASE_URI=mongodb://127.0.0.1:27017\n",
    "%env FIFTYONE_DEFAULT_DATASET_DIR=/home/ec2-user/SageMaker/.stcv/fiftyone_data_dir"
   ]
  },
  {
   "cell_type": "code",
   "execution_count": 2,
   "id": "97170145-dd80-406b-89e7-b2a5dc9bab27",
   "metadata": {},
   "outputs": [],
   "source": [
    "import fiftyone as fo\n",
    "import fiftyone.zoo as foz"
   ]
  },
  {
   "cell_type": "code",
   "execution_count": null,
   "id": "322513d2-08c6-4cbd-a7ff-d47864462fc1",
   "metadata": {
    "tags": []
   },
   "outputs": [],
   "source": [
    "dataset = foz.load_zoo_dataset(\"quickstart\")"
   ]
  },
  {
   "cell_type": "code",
   "execution_count": null,
   "id": "81da058c-5b92-4ceb-b9b6-294fdbf7e2ae",
   "metadata": {
    "tags": []
   },
   "outputs": [],
   "source": [
    "session = fo.launch_app(dataset, port=6010, auto=False)"
   ]
  },
  {
   "cell_type": "code",
   "execution_count": null,
   "id": "6d7c5f78-130e-43d2-9bbc-b4dc10271f86",
   "metadata": {},
   "outputs": [],
   "source": []
  }
 ],
 "metadata": {
  "kernelspec": {
   "display_name": "conda_fiftyone",
   "language": "python",
   "name": "conda_fiftyone"
  },
  "language_info": {
   "codemirror_mode": {
    "name": "ipython",
    "version": 3
   },
   "file_extension": ".py",
   "mimetype": "text/x-python",
   "name": "python",
   "nbconvert_exporter": "python",
   "pygments_lexer": "ipython3",
   "version": "3.9.16"
  }
 },
 "nbformat": 4,
 "nbformat_minor": 5
}
