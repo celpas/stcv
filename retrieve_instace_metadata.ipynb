{
 "cells": [
  {
   "cell_type": "markdown",
   "metadata": {
    "tags": []
   },
   "source": [
    "## Retrieve instance metadata using IMDSv2"
   ]
  },
  {
   "cell_type": "markdown",
   "metadata": {},
   "source": [
    "https://docs.aws.amazon.com/AWSEC2/latest/UserGuide/instancedata-data-retrieval.html"
   ]
  },
  {
   "cell_type": "code",
   "execution_count": null,
   "metadata": {
    "tags": []
   },
   "outputs": [],
   "source": [
    "import requests"
   ]
  },
  {
   "cell_type": "code",
   "execution_count": null,
   "metadata": {
    "tags": []
   },
   "outputs": [],
   "source": [
    "h = {\"X-aws-ec2-metadata-token-ttl-seconds\": \"21600\"}\n",
    "\n",
    "r = requests.put(\"http://169.254.169.254/latest/api/token\", data=None, headers=h)\n",
    "\n",
    "# check status code for response received\n",
    "# success code - 200\n",
    "print(r)\n",
    "\n",
    "# print content of request\n",
    "token = r.content.decode()\n",
    "print(token)"
   ]
  },
  {
   "cell_type": "code",
   "execution_count": null,
   "metadata": {
    "tags": []
   },
   "outputs": [],
   "source": [
    "h = {\"X-aws-ec2-metadata-token\": token}\n",
    "\n",
    "r = requests.get(\"http://169.254.169.254/latest/meta-data/local-ipv4\", data=None, headers=h)\n",
    "\n",
    "print(r)\n",
    "\n",
    "ipv4 = r.content.decode()\n",
    "print(ipv4)"
   ]
  },
  {
   "cell_type": "code",
   "execution_count": null,
   "metadata": {
    "tags": []
   },
   "outputs": [],
   "source": [
    "h = {\"X-aws-ec2-metadata-token\": token}\n",
    "\n",
    "r = requests.get(\"http://169.254.169.254/latest/meta-data/network/interfaces/macs\", data=None, headers=h)\n",
    "\n",
    "print(r)\n",
    "\n",
    "macs = r.content.decode()\n",
    "macs = macs.replace(\"\\n\", \"\").split(\"/\")\n",
    "print(macs)"
   ]
  },
  {
   "cell_type": "code",
   "execution_count": null,
   "metadata": {
    "tags": []
   },
   "outputs": [],
   "source": [
    "h = {\"X-aws-ec2-metadata-token\": token}\n",
    "\n",
    "r = requests.get(f\"http://169.254.169.254/latest/meta-data/network/interfaces/macs/{macs[0]}/subnet-id\", data=None, headers=h)\n",
    "\n",
    "print(r)\n",
    "\n",
    "subnet_id = r.content.decode()\n",
    "print(subnet_id)"
   ]
  },
  {
   "cell_type": "code",
   "execution_count": null,
   "metadata": {},
   "outputs": [],
   "source": []
  }
 ],
 "metadata": {
  "kernelspec": {
   "display_name": "conda_cls",
   "language": "python",
   "name": "conda_cls"
  },
  "language_info": {
   "codemirror_mode": {
    "name": "ipython",
    "version": 3
   },
   "file_extension": ".py",
   "mimetype": "text/x-python",
   "name": "python",
   "nbconvert_exporter": "python",
   "pygments_lexer": "ipython3",
   "version": "3.10.12"
  }
 },
 "nbformat": 4,
 "nbformat_minor": 4
}
