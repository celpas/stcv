{
 "cells": [
  {
   "cell_type": "markdown",
   "metadata": {},
   "source": [
    "This notebook is intended to be used in a <strong>SageMaker</strong> notebook"
   ]
  },
  {
   "cell_type": "markdown",
   "metadata": {},
   "source": [
    "First, select an environment with <strong>python 3.7</strong>"
   ]
  },
  {
   "cell_type": "code",
   "execution_count": null,
   "metadata": {},
   "outputs": [],
   "source": [
    "import os\n",
    "CWD = os.getcwd()\n",
    "CWD"
   ]
  },
  {
   "cell_type": "code",
   "execution_count": null,
   "metadata": {},
   "outputs": [],
   "source": [
    "!git clone --depth 1 https://github.com/heartexlabs/label-studio.git {CWD}/label-studio"
   ]
  },
  {
   "cell_type": "code",
   "execution_count": null,
   "metadata": {},
   "outputs": [],
   "source": [
    "!rm -rf {CWD}/label-studio"
   ]
  },
  {
   "cell_type": "code",
   "execution_count": null,
   "metadata": {},
   "outputs": [],
   "source": [
    "!which label-studio"
   ]
  },
  {
   "cell_type": "markdown",
   "metadata": {},
   "source": [
    "## Install"
   ]
  },
  {
   "cell_type": "code",
   "execution_count": null,
   "metadata": {},
   "outputs": [],
   "source": [
    "%%capture\n",
    "%pip install ruamel.yaml --upgrade"
   ]
  },
  {
   "cell_type": "code",
   "execution_count": null,
   "metadata": {
    "scrolled": true
   },
   "outputs": [],
   "source": [
    "%%capture\n",
    "%pip install -e {CWD}/label-studio"
   ]
  },
  {
   "cell_type": "markdown",
   "metadata": {},
   "source": [
    "#### Fix values"
   ]
  },
  {
   "cell_type": "code",
   "execution_count": null,
   "metadata": {},
   "outputs": [],
   "source": [
    "old_value = \"os.path.join(BASE_DIR, 'static_build')\"\n",
    "new_value = \"os.path.join(BASE_DIR, 'static')\"\n",
    "!sed -i \"s+{old_value}+{new_value}+g\" {CWD}/label-studio/label_studio/core/settings/base.py\n",
    "\n",
    "old_value = \"STATICFILES_DIRS\"\n",
    "new_value = \"#STATICFILES_DIRS\"\n",
    "!sed -i \"s+{old_value}+{new_value}+g\" {CWD}/label-studio/label_studio/core/settings/base.py\n",
    "\n",
    "old_value = \"STATICFILES_STORAGE\"\n",
    "new_value = \"#STATICFILES_STORAGE\"\n",
    "!sed -i \"s+{old_value}+{new_value}+g\" {CWD}/label-studio/label_studio/core/settings/base.py\n",
    "\n",
    "old_value = \"USE_ENFORCE_CSRF_CHECKS = \"\n",
    "new_value = \"USE_ENFORCE_CSRF_CHECKS = False  #\"\n",
    "!sed -i \"s+{old_value}+{new_value}+g\" {CWD}/label-studio/label_studio/core/settings/base.py"
   ]
  },
  {
   "cell_type": "markdown",
   "metadata": {},
   "source": [
    "## Configuration"
   ]
  },
  {
   "cell_type": "code",
   "execution_count": null,
   "metadata": {},
   "outputs": [],
   "source": [
    "import json\n",
    "log_path = '/opt/ml/metadata/resource-metadata.json'\n",
    "with open(log_path, 'r') as logs:\n",
    "    _logs = json.load(logs)\n",
    "INSTANCE_NAME = _logs['ResourceName']\n",
    "URL_NOTEBOOK = f\"https://{INSTANCE_NAME}.notebook.eu-central-1.sagemaker.aws\"\n",
    "DOCUMENT_ROOT = \"/tmp/bucket/\"\n",
    "DATABASE_NAME = f\"{CWD}/db.sqlite\""
   ]
  },
  {
   "cell_type": "code",
   "execution_count": null,
   "metadata": {},
   "outputs": [],
   "source": [
    "%env LABEL_STUDIO_PORT=6006\n",
    "%env LABEL_STUDIO_HOST={URL_NOTEBOOK}/proxy/6006/\n",
    "%env LABEL_STUDIO_LOCAL_FILES_SERVING_ENABLED=true\n",
    "%env LABEL_STUDIO_LOCAL_FILES_DOCUMENT_ROOT={DOCUMENT_ROOT}\n",
    "%env LABEL_STUDIO_DATABASE_NAME={DATABASE_NAME}"
   ]
  },
  {
   "cell_type": "markdown",
   "metadata": {},
   "source": [
    "## Start"
   ]
  },
  {
   "cell_type": "code",
   "execution_count": null,
   "metadata": {
    "scrolled": true
   },
   "outputs": [],
   "source": [
    "%%capture\n",
    "!label-studio start --username email@email.com --password password"
   ]
  },
  {
   "cell_type": "markdown",
   "metadata": {},
   "source": [
    "## Get token"
   ]
  },
  {
   "cell_type": "code",
   "execution_count": null,
   "metadata": {},
   "outputs": [],
   "source": [
    "!label-studio user --username email@email.com"
   ]
  },
  {
   "cell_type": "markdown",
   "metadata": {},
   "source": [
    "## Alternative mode for starting the server (useful to export the annotations)"
   ]
  },
  {
   "cell_type": "code",
   "execution_count": null,
   "metadata": {},
   "outputs": [],
   "source": [
    "!python ./label_studio/manage.py runserver localhost:6006"
   ]
  },
  {
   "cell_type": "code",
   "execution_count": null,
   "metadata": {
    "scrolled": true
   },
   "outputs": [],
   "source": [
    "!python label_studio/manage.py collectstatic --no-input"
   ]
  },
  {
   "cell_type": "code",
   "execution_count": null,
   "metadata": {},
   "outputs": [],
   "source": [
    "!git clone https://github.com/heartexlabs/label-studio-frontend.git /home/ec2-user/SageMaker/label-studio/label-studio-frontend"
   ]
  },
  {
   "cell_type": "code",
   "execution_count": null,
   "metadata": {},
   "outputs": [],
   "source": [
    "%cd /home/ec2-user/SageMaker/label-studio/label-studio-frontend"
   ]
  }
 ],
 "metadata": {
  "kernelspec": {
   "display_name": "Python 3.7.12 ('label_studio': conda)",
   "language": "python",
   "name": "python3"
  },
  "language_info": {
   "codemirror_mode": {
    "name": "ipython",
    "version": 3
   },
   "file_extension": ".py",
   "mimetype": "text/x-python",
   "name": "python",
   "nbconvert_exporter": "python",
   "pygments_lexer": "ipython3",
   "version": "3.7.12"
  },
  "vscode": {
   "interpreter": {
    "hash": "0bbf496c35b92143ebe0b6043682a68e43db67ee2cf858cd720384553dd65bb1"
   }
  }
 },
 "nbformat": 4,
 "nbformat_minor": 4
}
