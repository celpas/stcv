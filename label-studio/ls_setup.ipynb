{
 "cells": [
  {
   "cell_type": "markdown",
   "metadata": {},
   "source": [
    "# Create environment"
   ]
  },
  {
   "cell_type": "markdown",
   "metadata": {},
   "source": [
    "bash<br>\n",
    "conda create --name fiftyone python=3.8 -y<br>\n",
    "conda activate label_studio<br>\n",
    "conda install ipykernel -y<br>\n",
    "pip install setuptools==59.8.0<br>\n",
    "sudo systemctl restart jupyter-server"
   ]
  },
  {
   "cell_type": "markdown",
   "metadata": {},
   "source": [
    "# Clone master"
   ]
  },
  {
   "cell_type": "code",
   "execution_count": null,
   "metadata": {},
   "outputs": [],
   "source": [
    "# remove old repository (if already existing)\n",
    "!rm -rf ./label-studio"
   ]
  },
  {
   "cell_type": "code",
   "execution_count": null,
   "metadata": {},
   "outputs": [],
   "source": [
    "# clone repository\n",
    "!git clone https://github.com/heartexlabs/label-studio.git ./label-studio --depth 1"
   ]
  },
  {
   "cell_type": "markdown",
   "metadata": {},
   "source": [
    "# Setup"
   ]
  },
  {
   "cell_type": "markdown",
   "metadata": {},
   "source": [
    "## Fix values"
   ]
  },
  {
   "cell_type": "code",
   "execution_count": null,
   "metadata": {},
   "outputs": [],
   "source": [
    "old_value = \"os.path.join(BASE_DIR, 'static_build')\"\n",
    "new_value = \"os.path.join(BASE_DIR, 'static')\"\n",
    "!sed -i \"s+{old_value}+{new_value}+g\" ./label-studio/label_studio/core/settings/base.py\n",
    "\n",
    "old_value = \"STATICFILES_DIRS\"\n",
    "new_value = \"#STATICFILES_DIRS\"\n",
    "!sed -i \"s+{old_value}+{new_value}+g\" ./label-studio/label_studio/core/settings/base.py\n",
    "\n",
    "old_value = \"STATICFILES_STORAGE\"\n",
    "new_value = \"#STATICFILES_STORAGE\"\n",
    "!sed -i \"s+{old_value}+{new_value}+g\" ./label-studio/label_studio/core/settings/base.py\n",
    "\n",
    "old_value = \"USE_ENFORCE_CSRF_CHECKS = \"\n",
    "new_value = \"USE_ENFORCE_CSRF_CHECKS = False  #\"\n",
    "!sed -i \"s+{old_value}+{new_value}+g\" ./label-studio/label_studio/core/settings/base.py"
   ]
  },
  {
   "cell_type": "markdown",
   "metadata": {},
   "source": [
    "## Install"
   ]
  },
  {
   "cell_type": "code",
   "execution_count": null,
   "metadata": {},
   "outputs": [],
   "source": [
    "%%capture\n",
    "%pip install ruamel.yaml --upgrade"
   ]
  },
  {
   "cell_type": "code",
   "execution_count": null,
   "metadata": {
    "scrolled": true
   },
   "outputs": [],
   "source": [
    "%%capture\n",
    "%pip install ./label-studio"
   ]
  }
 ],
 "metadata": {
  "kernelspec": {
   "display_name": "Python 3.8.2 ('torch')",
   "language": "python",
   "name": "python3"
  },
  "language_info": {
   "codemirror_mode": {
    "name": "ipython",
    "version": 3
   },
   "file_extension": ".py",
   "mimetype": "text/x-python",
   "name": "python",
   "nbconvert_exporter": "python",
   "pygments_lexer": "ipython3",
   "version": "3.8.2"
  },
  "vscode": {
   "interpreter": {
    "hash": "a3f03ebc105b29fd6bb39b44c341439c9cde9d6127fa0a6bb8b0fcc0900aba74"
   }
  }
 },
 "nbformat": 4,
 "nbformat_minor": 4
}
