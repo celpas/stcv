{
 "cells": [
  {
   "cell_type": "markdown",
   "metadata": {},
   "source": [
    "# Configuration"
   ]
  },
  {
   "cell_type": "code",
   "execution_count": null,
   "metadata": {},
   "outputs": [],
   "source": [
    "import json, os\n",
    "\n",
    "log_path = '/opt/ml/metadata/resource-metadata.json'\n",
    "with open(log_path, 'r') as logs:\n",
    "    _logs = json.load(logs)\n",
    "INSTANCE_NAME = _logs['ResourceName']\n",
    "\n",
    "URL_NOTEBOOK = f\"https://{INSTANCE_NAME}.notebook.eu-central-1.sagemaker.aws\"\n",
    "DOCUMENT_ROOT = \"/tmp/bucket/\"\n",
    "DATABASE_NAME = \"./db.sqlite\"\n",
    "\n",
    "%env LABEL_STUDIO_PORT=6006\n",
    "%env LABEL_STUDIO_HOST={URL_NOTEBOOK}/proxy/6006/\n",
    "%env LABEL_STUDIO_LOCAL_FILES_SERVING_ENABLED=true\n",
    "%env LABEL_STUDIO_LOCAL_FILES_DOCUMENT_ROOT={DOCUMENT_ROOT}\n",
    "%env LABEL_STUDIO_DATABASE_NAME={DATABASE_NAME}"
   ]
  },
  {
   "cell_type": "markdown",
   "metadata": {},
   "source": [
    "# Start"
   ]
  },
  {
   "cell_type": "code",
   "execution_count": null,
   "metadata": {
    "scrolled": true
   },
   "outputs": [],
   "source": [
    "%%capture\n",
    "!label-studio start --username email@email.com --password password"
   ]
  },
  {
   "cell_type": "markdown",
   "metadata": {},
   "source": [
    "# Get token"
   ]
  },
  {
   "cell_type": "code",
   "execution_count": null,
   "metadata": {},
   "outputs": [],
   "source": [
    "!label-studio user --username email@email.com"
   ]
  },
  {
   "cell_type": "markdown",
   "metadata": {},
   "source": [
    "# Alternative mode for starting the server"
   ]
  },
  {
   "cell_type": "code",
   "execution_count": null,
   "metadata": {},
   "outputs": [],
   "source": [
    "!python ./label_studio/manage.py runserver localhost:6006"
   ]
  }
 ],
 "metadata": {
  "kernelspec": {
   "display_name": "Python 3.8.2 ('torch')",
   "language": "python",
   "name": "python3"
  },
  "language_info": {
   "codemirror_mode": {
    "name": "ipython",
    "version": 3
   },
   "file_extension": ".py",
   "mimetype": "text/x-python",
   "name": "python",
   "nbconvert_exporter": "python",
   "pygments_lexer": "ipython3",
   "version": "3.8.2"
  },
  "vscode": {
   "interpreter": {
    "hash": "a3f03ebc105b29fd6bb39b44c341439c9cde9d6127fa0a6bb8b0fcc0900aba74"
   }
  }
 },
 "nbformat": 4,
 "nbformat_minor": 4
}
