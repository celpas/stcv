{
 "cells": [
  {
   "cell_type": "code",
   "execution_count": null,
   "id": "c5aea61b-8271-4078-a151-f7af9d410cba",
   "metadata": {
    "tags": []
   },
   "outputs": [],
   "source": [
    "import mlflow\n",
    "import mlflow.pytorch\n",
    "from mlflow import MlflowClient\n",
    "from mlflow.store.artifact.runs_artifact_repo import RunsArtifactRepository\n",
    "\n",
    "mlflow.set_tracking_uri(\"http://127.0.0.1:6004\")"
   ]
  },
  {
   "cell_type": "code",
   "execution_count": null,
   "id": "b508511b-853b-4dcc-8219-a1c998ae4fdb",
   "metadata": {
    "tags": []
   },
   "outputs": [],
   "source": [
    "mlflow.get_tracking_uri()"
   ]
  },
  {
   "cell_type": "code",
   "execution_count": null,
   "id": "10a95861-4703-4a42-98dd-40885456bea0",
   "metadata": {},
   "outputs": [],
   "source": [
    "# https://mlflow.org/docs/latest/python_api/mlflow.client.html\n",
    "client = MlflowClient()"
   ]
  },
  {
   "cell_type": "markdown",
   "id": "807ab280-3427-4d43-9718-27e0b8e5868b",
   "metadata": {},
   "source": [
    "## Register model"
   ]
  },
  {
   "cell_type": "code",
   "execution_count": null,
   "id": "2258294c-cf0c-49fc-9747-e19d88fa10d7",
   "metadata": {
    "tags": []
   },
   "outputs": [],
   "source": [
    "model_name = \"det-roi\""
   ]
  },
  {
   "cell_type": "code",
   "execution_count": null,
   "id": "ebf72dca-1e29-4c15-b0a6-986283d6e5d6",
   "metadata": {
    "tags": []
   },
   "outputs": [],
   "source": [
    "client.create_registered_model(model_name)"
   ]
  },
  {
   "cell_type": "markdown",
   "id": "8a0271c7-3dee-4f91-999c-5c11c6eb2f7e",
   "metadata": {},
   "source": [
    "## Register model version"
   ]
  },
  {
   "cell_type": "code",
   "execution_count": null,
   "id": "78eeef50-ce3b-45b0-a950-6e64db8505e2",
   "metadata": {
    "tags": []
   },
   "outputs": [],
   "source": [
    "run_id = \"a6cd9365c1da42ceb3513d7eddd4679d\""
   ]
  },
  {
   "cell_type": "code",
   "execution_count": null,
   "id": "0b142ef1-93d7-4850-a75a-78378f51063b",
   "metadata": {
    "tags": []
   },
   "outputs": [],
   "source": [
    "model_src = RunsArtifactRepository.get_underlying_uri(\"runs:/{}/model\".format(run_id))\n",
    "result = client.create_model_version(name=model_name, source=model_src, run_id=run_id)"
   ]
  },
  {
   "cell_type": "markdown",
   "id": "58c783db-1939-48f9-b8e7-bda9665dc235",
   "metadata": {},
   "source": [
    "## Delete model version"
   ]
  },
  {
   "cell_type": "code",
   "execution_count": null,
   "id": "a5b25918-ea68-4cf3-8548-f9e80abd59ac",
   "metadata": {
    "tags": []
   },
   "outputs": [],
   "source": [
    "versions = [1, 2]\n",
    "for version in versions:\n",
    "    client.delete_model_version(name=model_name, version=version)"
   ]
  },
  {
   "cell_type": "markdown",
   "id": "cf15d8b1-0517-46df-83ca-65d143aeee8d",
   "metadata": {},
   "source": [
    "## Delete model"
   ]
  },
  {
   "cell_type": "code",
   "execution_count": null,
   "id": "5b26a03a-5f94-4697-a8ca-b0f205aaf6e0",
   "metadata": {
    "tags": []
   },
   "outputs": [],
   "source": [
    "# Delete a registered model along with all its versions\n",
    "client.delete_registered_model(name=\"det-roi-1\")"
   ]
  },
  {
   "cell_type": "code",
   "execution_count": null,
   "id": "cea9ab75-da75-4ccd-8f03-a5f8da1ee022",
   "metadata": {},
   "outputs": [],
   "source": []
  }
 ],
 "metadata": {
  "kernelspec": {
   "display_name": "cls",
   "language": "python",
   "name": "python3"
  },
  "language_info": {
   "codemirror_mode": {
    "name": "ipython",
    "version": 3
   },
   "file_extension": ".py",
   "mimetype": "text/x-python",
   "name": "python",
   "nbconvert_exporter": "python",
   "pygments_lexer": "ipython3",
   "version": "3.10.12"
  }
 },
 "nbformat": 4,
 "nbformat_minor": 5
}
