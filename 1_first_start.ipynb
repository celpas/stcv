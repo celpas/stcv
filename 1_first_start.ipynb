{
 "cells": [
  {
   "cell_type": "code",
   "execution_count": null,
   "id": "3a839046-0f9a-489c-9965-2ab13bccbfb1",
   "metadata": {},
   "outputs": [],
   "source": [
    "%pip install python-dotenv"
   ]
  },
  {
   "cell_type": "markdown",
   "id": "2dac7f1c-4c57-41e5-a805-fdfb24e717db",
   "metadata": {},
   "source": [
    "## First start"
   ]
  },
  {
   "cell_type": "markdown",
   "id": "de0c7bc4-59d2-4b59-b99c-c7e32da6c1bb",
   "metadata": {},
   "source": [
    "1. Copy <b>_configuration.env.bck</b> to <b>_configuration.env</b> and <b>_lifecycle.bash.bck</b> to <b>_lifecycle.bash</b>"
   ]
  },
  {
   "cell_type": "code",
   "execution_count": null,
   "id": "7ffd7cc2-563f-4278-9621-a82164be520c",
   "metadata": {},
   "outputs": [],
   "source": [
    "!cp _configuration.env.bck _configuration.env && _lifecycle.bash.bck _lifecycle.bash"
   ]
  },
  {
   "cell_type": "markdown",
   "id": "54eaaef6-1a61-4340-b6ef-32fd51a15fb1",
   "metadata": {},
   "source": [
    "2. Open <b>_configuration.env</b> and set at least the following variables:\n",
    "    - <b>STCV_LIFECYCLE_NAME</b> with your lifecycle name (even not existing)\n",
    "    - <b>STCV_INSTANCE_ADDRESS</b> with the address to your notebook instance\n",
    "    - <b>STCV_BUCKET_1_NAME</b> with the bucket you want to mount"
   ]
  },
  {
   "cell_type": "markdown",
   "id": "a974d7b3-a5ef-448d-a37c-e541587e061e",
   "metadata": {},
   "source": [
    "3. Load configuration data from <b>_configuration.env</b>"
   ]
  },
  {
   "cell_type": "code",
   "execution_count": null,
   "id": "68b4ce45-8513-4f0a-8359-4fca743726e7",
   "metadata": {
    "tags": []
   },
   "outputs": [],
   "source": [
    "from dotenv import dotenv_values\n",
    "\n",
    "config = dotenv_values(\"_configuration.env\")\n",
    "config"
   ]
  },
  {
   "cell_type": "markdown",
   "id": "b6d8f351-3a5d-47eb-9e39-5f5d54209e05",
   "metadata": {},
   "source": [
    "4. Launch the script <b>./stcv/scripts/first_start.bash</b> (e.g. to change the Docker directory)"
   ]
  },
  {
   "cell_type": "code",
   "execution_count": null,
   "id": "71d46709-3844-4947-8142-33401db6ba38",
   "metadata": {},
   "outputs": [],
   "source": [
    "!sudo chmod +x ./stcv/scripts/first_start.bash\n",
    "!./stcv/scripts/first_start.bash {config[\"STCV_DIR\"]}/docker_data_dir"
   ]
  },
  {
   "cell_type": "markdown",
   "id": "8531cb77-46e7-48c6-9c74-e9fea1544b02",
   "metadata": {},
   "source": [
    "5. Use the notebook <b>2_lifecycle_create_update.ipynb</b> to create or update the lifecycle for your instance"
   ]
  },
  {
   "cell_type": "markdown",
   "id": "0933340b-c491-4903-9424-6aade77f1c07",
   "metadata": {},
   "source": [
    "6. <b>Build the Docker</b> image launching the next cells"
   ]
  },
  {
   "cell_type": "markdown",
   "id": "d1059fe9-ed77-43d6-abc5-a8df96797241",
   "metadata": {},
   "source": [
    "## Build Docker image"
   ]
  },
  {
   "cell_type": "code",
   "execution_count": null,
   "id": "b124045d-2351-4e43-9d58-8c819d80dd70",
   "metadata": {
    "tags": []
   },
   "outputs": [],
   "source": [
    "stcv_version = config[\"STCV_VERSION\"]\n",
    "\n",
    "build_args = [\n",
    "    \"STCV_INSTANCE_ADDRESS\",\n",
    "    \"STCV_FIFTYONE_1_BUILD\",\n",
    "    \"STCV_FIFTYONE_2_BUILD\",\n",
    "    \"STCV_FIFTYONE_3_BUILD\"\n",
    "]\n",
    "build_args = [f\"--build-arg {k}={config[k]}\" for k in build_args]\n",
    "build_args = \" \".join(build_args)\n",
    "stcv_version, build_args"
   ]
  },
  {
   "cell_type": "code",
   "execution_count": null,
   "id": "5e77a56d-a1a6-4565-9313-445d77383feb",
   "metadata": {
    "scrolled": true,
    "tags": []
   },
   "outputs": [],
   "source": [
    "!docker build -t stcv:{stcv_version} -f ./docker/Dockerfile {build_args} ."
   ]
  },
  {
   "cell_type": "code",
   "execution_count": null,
   "id": "62d79f59-2573-43a9-a320-f84e7da24367",
   "metadata": {
    "tags": []
   },
   "outputs": [],
   "source": [
    "!docker images"
   ]
  },
  {
   "cell_type": "markdown",
   "id": "fa5fedcf-0e70-4b8f-8518-4712f76ddbf5",
   "metadata": {},
   "source": [
    "## Run"
   ]
  },
  {
   "cell_type": "markdown",
   "id": "b44a3a7a-d2bd-453c-bb98-7195cac6e6b2",
   "metadata": {},
   "source": [
    "<b>Launch the container</b> using the notebook <b>3_docker_launch_container.ipynb</b>"
   ]
  },
  {
   "cell_type": "code",
   "execution_count": null,
   "id": "4e12c78b-f578-4666-9888-20e9d63ea52f",
   "metadata": {},
   "outputs": [],
   "source": []
  }
 ],
 "metadata": {
  "kernelspec": {
   "display_name": "conda_python3",
   "language": "python",
   "name": "conda_python3"
  },
  "language_info": {
   "codemirror_mode": {
    "name": "ipython",
    "version": 3
   },
   "file_extension": ".py",
   "mimetype": "text/x-python",
   "name": "python",
   "nbconvert_exporter": "python",
   "pygments_lexer": "ipython3",
   "version": "3.10.10"
  }
 },
 "nbformat": 4,
 "nbformat_minor": 5
}
