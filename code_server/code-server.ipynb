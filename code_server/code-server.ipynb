{
 "cells": [
  {
   "cell_type": "markdown",
   "id": "fea5c504",
   "metadata": {},
   "source": [
    "## Open"
   ]
  },
  {
   "cell_type": "code",
   "execution_count": null,
   "id": "edfb4e3a",
   "metadata": {},
   "outputs": [],
   "source": [
    "from IPython.core.display import display, HTML\n",
    "\n",
    "display(\n",
    "    HTML(\n",
    "        \"\"\"\n",
    "        <script type=\"text/Javascript\">\n",
    "            function get_url() {\n",
    "                return \"https://\" + window.location.hostname + \"/proxy/1199/\"\n",
    "            }\n",
    "        </script>\n",
    "        <a onclick=\"this.href=get_url()\" href=\"\" target=\"_blank\"><h1>Open session in a new tab</h1></a>\n",
    "        \"\"\"\n",
    "    )\n",
    ")"
   ]
  },
  {
   "cell_type": "markdown",
   "id": "2bf2022d",
   "metadata": {},
   "source": [
    "## Disable authentication"
   ]
  },
  {
   "cell_type": "code",
   "execution_count": null,
   "id": "3fa0c8d2",
   "metadata": {},
   "outputs": [],
   "source": [
    "# Replaces \"auth: password\" with \"auth: none\" in the code-server config.\n",
    "!sed -i.bak 's/auth: password/auth: none/' ~/.config/code-server/config.yaml"
   ]
  },
  {
   "cell_type": "code",
   "execution_count": null,
   "id": "1cac821a",
   "metadata": {},
   "outputs": [],
   "source": [
    "!cat ~/.config/code-server/config.yaml"
   ]
  },
  {
   "cell_type": "markdown",
   "id": "b14bedc5",
   "metadata": {},
   "source": [
    "## Start"
   ]
  },
  {
   "cell_type": "code",
   "execution_count": 4,
   "id": "96ec96d1",
   "metadata": {},
   "outputs": [],
   "source": [
    "!sudo systemctl start code-server@ec2-user"
   ]
  },
  {
   "cell_type": "markdown",
   "id": "a2b46f94",
   "metadata": {},
   "source": [
    "## Restart"
   ]
  },
  {
   "cell_type": "code",
   "execution_count": 1,
   "id": "b0480cc4",
   "metadata": {},
   "outputs": [],
   "source": [
    "!sudo systemctl restart code-server@ec2-user"
   ]
  },
  {
   "cell_type": "markdown",
   "id": "f50decbc",
   "metadata": {},
   "source": [
    "## Stop"
   ]
  },
  {
   "cell_type": "code",
   "execution_count": 2,
   "id": "07f3126d",
   "metadata": {},
   "outputs": [],
   "source": [
    "!sudo systemctl stop code-server@ec2-user"
   ]
  }
 ],
 "metadata": {
  "kernelspec": {
   "display_name": "Python 3.8.2 ('torch')",
   "language": "python",
   "name": "python3"
  },
  "language_info": {
   "codemirror_mode": {
    "name": "ipython",
    "version": 3
   },
   "file_extension": ".py",
   "mimetype": "text/x-python",
   "name": "python",
   "nbconvert_exporter": "python",
   "pygments_lexer": "ipython3",
   "version": "3.8.2"
  },
  "vscode": {
   "interpreter": {
    "hash": "a3f03ebc105b29fd6bb39b44c341439c9cde9d6127fa0a6bb8b0fcc0900aba74"
   }
  }
 },
 "nbformat": 4,
 "nbformat_minor": 5
}
