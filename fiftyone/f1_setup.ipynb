{
 "cells": [
  {
   "cell_type": "markdown",
   "id": "700199a9",
   "metadata": {},
   "source": [
    "# Create environment"
   ]
  },
  {
   "cell_type": "markdown",
   "id": "18ea56a9",
   "metadata": {},
   "source": [
    "bash<br>\n",
    "conda create --name fiftyone python=3.8 -y<br>\n",
    "conda activate fiftyone<br>\n",
    "conda install ipykernel -y<br>\n",
    "pip install setuptools==59.8.0<br>\n",
    "sudo systemctl restart jupyter-server"
   ]
  },
  {
   "cell_type": "markdown",
   "id": "69bd5358",
   "metadata": {},
   "source": [
    "# Clone master"
   ]
  },
  {
   "cell_type": "code",
   "execution_count": null,
   "id": "e108a020",
   "metadata": {},
   "outputs": [],
   "source": [
    "# remove old repository (if already existing)\n",
    "!rm -rf ./fiftyone"
   ]
  },
  {
   "cell_type": "code",
   "execution_count": null,
   "id": "2dc6577c",
   "metadata": {},
   "outputs": [],
   "source": [
    "# clone repository\n",
    "!git clone https://github.com/voxel51/fiftyone.git ./fiftyone --depth 1"
   ]
  },
  {
   "cell_type": "markdown",
   "id": "837f5a48",
   "metadata": {},
   "source": [
    "# Setup"
   ]
  },
  {
   "cell_type": "markdown",
   "id": "d4f47b48",
   "metadata": {},
   "source": [
    "## Fix values"
   ]
  },
  {
   "cell_type": "code",
   "execution_count": null,
   "id": "7628965a",
   "metadata": {},
   "outputs": [],
   "source": [
    "import json\n",
    "log_path = '/opt/ml/metadata/resource-metadata.json'\n",
    "with open(log_path, 'r') as logs:\n",
    "    _logs = json.load(logs)\n",
    "INSTANCE_NAME = _logs['ResourceName']\n",
    "F1_HOST = f\"https://{INSTANCE_NAME}.notebook.eu-central-1.sagemaker.aws\"\n",
    "F1_PORT = 6008\n",
    "%env F1_HOST={F1_HOST}\n",
    "%env F1_PORT={F1_PORT}"
   ]
  },
  {
   "cell_type": "code",
   "execution_count": null,
   "id": "aed81133",
   "metadata": {},
   "outputs": [],
   "source": [
    "%%bash\n",
    "cd ./fiftyone/app/packages/app/\n",
    "if [ -f \".env\" ] ; then\n",
    "    rm \".env\"\n",
    "fi\n",
    "if [ -f \".env.development\" ] ; then\n",
    "    rm \".env.development\"\n",
    "fi\n",
    "if [ -f \".env.development.local\" ] ; then\n",
    "    rm \".env.development.local\"\n",
    "fi\n",
    "echo \"VITE_API=$F1_HOST/proxy/$F1_PORT\" >> .env\n",
    "cat .env\n",
    "cd ../../../../"
   ]
  },
  {
   "cell_type": "code",
   "execution_count": null,
   "id": "014fbbdf",
   "metadata": {},
   "outputs": [],
   "source": [
    "# Fix package.json\n",
    "old_value = 'vite build\",'\n",
    "new_value = f'vite build --base=/proxy/{F1_PORT}/\",'\n",
    "!sed -i 's+{old_value}+{new_value}+g' ./fiftyone/app/packages/app/package.json"
   ]
  },
  {
   "cell_type": "code",
   "execution_count": null,
   "id": "9be01438",
   "metadata": {},
   "outputs": [],
   "source": [
    "# Fix context.py\n",
    "old_value = 'http://{address}:{port}/'\n",
    "new_value = f'{F1_HOST}/proxy/{F1_PORT}/'\n",
    "!sed -i \"s+{old_value}+{new_value}+g\" ./fiftyone/fiftyone/core/context.py"
   ]
  },
  {
   "cell_type": "code",
   "execution_count": null,
   "id": "3a04a151",
   "metadata": {},
   "outputs": [],
   "source": [
    "# Fix context.py\n",
    "old_value = '?context='\n",
    "new_value = '?polling=true\\&context='\n",
    "!sed -i \"s+{old_value}+{new_value}+g\" ./fiftyone/fiftyone/core/context.py"
   ]
  },
  {
   "cell_type": "markdown",
   "id": "26b328b3",
   "metadata": {},
   "source": [
    "## Build NodeJS app"
   ]
  },
  {
   "cell_type": "code",
   "execution_count": null,
   "id": "884f3d48",
   "metadata": {},
   "outputs": [],
   "source": [
    "!chmod +x ./install.bash\n",
    "!./install.bash -p"
   ]
  },
  {
   "cell_type": "markdown",
   "id": "53e2e878",
   "metadata": {},
   "source": [
    "## Install"
   ]
  },
  {
   "cell_type": "code",
   "execution_count": null,
   "id": "dca9a05c",
   "metadata": {
    "scrolled": true
   },
   "outputs": [],
   "source": [
    "!chmod +x ./install.bash\n",
    "!./install.bash -e"
   ]
  }
 ],
 "metadata": {
  "kernelspec": {
   "display_name": "Python 3.8.2 ('torch')",
   "language": "python",
   "name": "python3"
  },
  "language_info": {
   "codemirror_mode": {
    "name": "ipython",
    "version": 3
   },
   "file_extension": ".py",
   "mimetype": "text/x-python",
   "name": "python",
   "nbconvert_exporter": "python",
   "pygments_lexer": "ipython3",
   "version": "3.8.2"
  },
  "vscode": {
   "interpreter": {
    "hash": "a3f03ebc105b29fd6bb39b44c341439c9cde9d6127fa0a6bb8b0fcc0900aba74"
   }
  }
 },
 "nbformat": 4,
 "nbformat_minor": 5
}
