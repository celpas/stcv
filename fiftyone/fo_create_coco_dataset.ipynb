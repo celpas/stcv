{
 "cells": [
  {
   "cell_type": "markdown",
   "id": "c60c80cd",
   "metadata": {},
   "source": [
    "To learn more about COCO integration on FiftyOne visit <a href=\"https://voxel51.com/docs/fiftyone/integrations/coco.html\">this page</a>"
   ]
  },
  {
   "cell_type": "markdown",
   "id": "9115bfb5",
   "metadata": {},
   "source": [
    "## Import"
   ]
  },
  {
   "cell_type": "code",
   "execution_count": null,
   "id": "33431f02",
   "metadata": {},
   "outputs": [],
   "source": [
    "%env FIFTYONE_DATABASE_URI=mongodb://127.0.0.1:27017\n",
    "import fiftyone as fo"
   ]
  },
  {
   "cell_type": "markdown",
   "id": "542e58c5",
   "metadata": {},
   "source": [
    "## Create dataset"
   ]
  },
  {
   "cell_type": "code",
   "execution_count": null,
   "id": "ef251aa1",
   "metadata": {},
   "outputs": [],
   "source": [
    "DATASET_NAME = \"DATASET_NAME\"\n",
    "IMAGES_DIR = \"/tmp/bucket/...\"\n",
    "COCO_GT_PATH = \"/tmp/bucket/...\"\n",
    "\n",
    "# Remove old dataset if existing\n",
    "if DATASET_NAME in fo.list_datasets():\n",
    "    dataset = fo.load_dataset(DATASET_NAME)\n",
    "    dataset.delete()\n",
    "\n",
    "# Create dataset\n",
    "dataset = fo.Dataset.from_dir(\n",
    "    dataset_type=fo.types.COCODetectionDataset,\n",
    "    name=DATASET_NAME,\n",
    "    data_path=IMAGES_DIR,\n",
    "    label_types=[\"detections\"],  # \"detections\", \"segmentations\", \"keypoints\"\n",
    "    labels_path=COCO_GT_PATH,\n",
    "    include_id=True,\n",
    ")\n",
    "\n",
    "# Make the dataset persistent\n",
    "dataset.persistent = True"
   ]
  },
  {
   "cell_type": "code",
   "execution_count": null,
   "id": "9e33bf0c",
   "metadata": {},
   "outputs": [],
   "source": [
    "for sample in dataset:\n",
    "    print(sample)\n",
    "    break"
   ]
  },
  {
   "cell_type": "markdown",
   "id": "3debd30d",
   "metadata": {},
   "source": [
    "## Import predictions (unfiltered)"
   ]
  },
  {
   "cell_type": "code",
   "execution_count": null,
   "id": "12e77536",
   "metadata": {},
   "outputs": [],
   "source": [
    "import json\n",
    "\n",
    "COCO_PREDS_PATH = \"/tmp/bucket/...\"\n",
    "\n",
    "with open(COCO_PREDS_PATH) as file:\n",
    "    predictions = json.load(file)"
   ]
  },
  {
   "cell_type": "code",
   "execution_count": null,
   "id": "e3f79e22",
   "metadata": {},
   "outputs": [],
   "source": [
    "dataset.default_classes"
   ]
  },
  {
   "cell_type": "code",
   "execution_count": null,
   "id": "74028840",
   "metadata": {},
   "outputs": [],
   "source": [
    "import fiftyone.utils.coco as fouc\n",
    "\n",
    "# https://voxel51.com/docs/fiftyone/api/fiftyone.utils.coco.html#fiftyone.utils.coco.add_coco_labels\n",
    "# Add COCO predictions to \"predictions\" field of dataset\n",
    "classes = dataset.default_classes\n",
    "fouc.add_coco_labels(dataset, \"predictions\", predictions[\"annotations\"], classes, coco_id_field=\"coco_id\")\n",
    "\n",
    "# Verify that predictions were added\n",
    "print(dataset.count(\"predictions\"))"
   ]
  },
  {
   "cell_type": "markdown",
   "id": "19a9c50c",
   "metadata": {},
   "source": [
    "## Find optimal thresholds"
   ]
  },
  {
   "cell_type": "code",
   "execution_count": null,
   "id": "bd53c5e4",
   "metadata": {},
   "outputs": [],
   "source": [
    "# !pip install ipywidgets==7.7.2"
   ]
  },
  {
   "cell_type": "code",
   "execution_count": null,
   "id": "8744bf8d",
   "metadata": {},
   "outputs": [],
   "source": [
    "results = dataset.evaluate_detections(\n",
    "    \"predictions\",\n",
    "    gt_field=\"detections\",\n",
    "    method=\"coco\",\n",
    "    compute_mAP=True,\n",
    ")\n",
    "\n",
    "plot = results.plot_pr_curves(classes=classes[1:], iou_thresh=0.50)"
   ]
  },
  {
   "cell_type": "code",
   "execution_count": null,
   "id": "1ea19dde",
   "metadata": {},
   "outputs": [],
   "source": [
    "import numpy as np\n",
    "\n",
    "opt_threshs = {}\n",
    "shapes = []\n",
    "\n",
    "for curve in plot._figure.data:\n",
    "    name = curve[\"name\"]\n",
    "    r = curve[\"x\"]\n",
    "    p = curve[\"y\"]\n",
    "    t = curve[\"customdata\"]\n",
    "    curve_name = curve[\"name\"]\n",
    "    class_name = curve[\"text\"][0]\n",
    "    f1 = 2 * ((p * r) / (p + r))\n",
    "    amax = np.argmax(f1)\n",
    "    opt_thresh = t[amax]\n",
    "    print(\"Optimal threshold for {}:\\n{:.2f} (with F1={:.2f} / PREC={:.2f} / REC={:.2f})\".format(curve_name, opt_thresh, f1[amax], p[amax], r[amax]))\n",
    "    opt_threshs[class_name] = opt_thresh\n",
    "    shapes.append(dict(type=\"circle\", x0=r[amax]-0.01, y0=p[amax]-0.01, x1=r[amax]+0.01, y1=p[amax]+0.01, line_color=\"red\"))"
   ]
  },
  {
   "cell_type": "code",
   "execution_count": null,
   "id": "ab97310c",
   "metadata": {},
   "outputs": [],
   "source": [
    "plot.update_layout(\n",
    "    width=1000,\n",
    "    height=700,\n",
    "    autosize=False,\n",
    "    xaxis_range=[-0.05, 1.05],\n",
    "    yaxis_range=[-0.05, 1.05],\n",
    "    shapes=shapes,\n",
    ")\n",
    "plot.show()"
   ]
  },
  {
   "cell_type": "markdown",
   "id": "2af828d5",
   "metadata": {},
   "source": [
    "## Import predictions (filtered)"
   ]
  },
  {
   "cell_type": "code",
   "execution_count": null,
   "id": "eda1c776",
   "metadata": {},
   "outputs": [],
   "source": [
    "import fiftyone.utils.coco as fouc\n",
    "\n",
    "print(\"Number of annotations before filtering: {}\".format(len(predictions[\"annotations\"])))\n",
    "predictions_filtered = [\n",
    "    ann for ann in predictions[\"annotations\"]\n",
    "    if ann[\"score\"] >= opt_threshs[classes[ann[\"category_id\"]]]\n",
    "]\n",
    "print(\"Number of annotations after filtering: {}\".format(len(predictions_filtered)))\n",
    "\n",
    "classes = dataset.default_classes\n",
    "fouc.add_coco_labels(dataset, \"predictions_filtered\", predictions_filtered, classes, coco_id_field=\"coco_id\")\n",
    "\n",
    "# Verify that predictions were added\n",
    "print(dataset.count(\"predictions\"))"
   ]
  },
  {
   "cell_type": "markdown",
   "id": "9979ce9f",
   "metadata": {},
   "source": [
    "## Print report"
   ]
  },
  {
   "cell_type": "code",
   "execution_count": null,
   "id": "73e27352",
   "metadata": {},
   "outputs": [],
   "source": [
    "results = dataset.evaluate_detections(\n",
    "    \"predictions_filtered\",\n",
    "    gt_field=\"detections\",\n",
    "    method=\"coco\",\n",
    "    eval_key=\"eval\",\n",
    ")\n",
    "\n",
    "results.print_report(classes=classes[1:])\n",
    "\n",
    "# Print some statistics about the total TP/FP/FN counts\n",
    "print(\"TP: %d\" % dataset.sum(\"eval_tp\"))\n",
    "print(\"FP: %d\" % dataset.sum(\"eval_fp\"))\n",
    "print(\"FN: %d\" % dataset.sum(\"eval_fn\"))"
   ]
  },
  {
   "cell_type": "markdown",
   "id": "fe7eecf2",
   "metadata": {},
   "source": [
    "## Print confusion matrix"
   ]
  },
  {
   "cell_type": "code",
   "execution_count": null,
   "id": "e3b08f03",
   "metadata": {},
   "outputs": [],
   "source": [
    "results = dataset.evaluate_detections(\n",
    "    \"predictions_filtered\",\n",
    "    gt_field=\"detections\",\n",
    "    method=\"coco\",\n",
    "    classwise=False,\n",
    ")\n",
    "\n",
    "from matplotlib import pyplot as plt\n",
    "params = {\n",
    "    'figure.figsize': (18, 10),\n",
    "    'font.size': 14,\n",
    "    'axes.labelsize': 16,\n",
    "    'axes.titlesize': 18,\n",
    "    'xtick.labelsize': 12,\n",
    "    'ytick.labelsize': 12,\n",
    "}\n",
    "plt.rcParams.update(params)\n",
    "plot = results.plot_confusion_matrix(classes=classes[1:], backend=\"matplotlib\", cmap='Blues', figsize=(18,12))\n",
    "plt.show()"
   ]
  },
  {
   "cell_type": "markdown",
   "id": "1346b372",
   "metadata": {},
   "source": [
    "## Start session"
   ]
  },
  {
   "cell_type": "code",
   "execution_count": null,
   "id": "9772a4fd",
   "metadata": {},
   "outputs": [],
   "source": [
    "from IPython.core.display import display, HTML\n",
    "from uuid import uuid4\n",
    "\n",
    "session = fo.launch_app(dataset, port=6008, auto=False)\n",
    "\n",
    "uuid = str(uuid4())\n",
    "print(uuid)\n",
    "URL = session.url + f\"?subscription={uuid}&polling=true\"\n",
    "display(\n",
    "    HTML(\n",
    "        \"\"\"\n",
    "        <a href=\"{}\" target=\"_blank\"><h1>Open session in a new tab</h1></a>\n",
    "        \"\"\".format(URL)\n",
    "    )\n",
    ")"
   ]
  },
  {
   "cell_type": "markdown",
   "id": "dcfe1f1c",
   "metadata": {},
   "source": [
    "## Launch in notebook"
   ]
  },
  {
   "cell_type": "code",
   "execution_count": null,
   "id": "bb1857b3",
   "metadata": {},
   "outputs": [],
   "source": [
    "# Run this to use the app here\n",
    "session.show()"
   ]
  }
 ],
 "metadata": {
  "kernelspec": {
   "display_name": "Python 3.8.2 ('torch')",
   "language": "python",
   "name": "python3"
  },
  "language_info": {
   "codemirror_mode": {
    "name": "ipython",
    "version": 3
   },
   "file_extension": ".py",
   "mimetype": "text/x-python",
   "name": "python",
   "nbconvert_exporter": "python",
   "pygments_lexer": "ipython3",
   "version": "3.8.2"
  },
  "vscode": {
   "interpreter": {
    "hash": "a3f03ebc105b29fd6bb39b44c341439c9cde9d6127fa0a6bb8b0fcc0900aba74"
   }
  }
 },
 "nbformat": 4,
 "nbformat_minor": 5
}
