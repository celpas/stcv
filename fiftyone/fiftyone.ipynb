{
 "cells": [
  {
   "cell_type": "markdown",
   "id": "700199a9",
   "metadata": {},
   "source": [
    "### Run this on a terminal to create a custom environment:<br>\n",
    "bash<br>\n",
    "conda create --name fiftyone python=3.8 -y<br>\n",
    "conda activate fiftyone<br>\n",
    "conda install ipykernel -y<br>\n",
    "pip install setuptools==59.8.0"
   ]
  },
  {
   "cell_type": "markdown",
   "id": "69bd5358",
   "metadata": {},
   "source": [
    "# Clone master"
   ]
  },
  {
   "cell_type": "code",
   "execution_count": null,
   "id": "2dc6577c",
   "metadata": {},
   "outputs": [],
   "source": [
    "!git clone https://github.com/voxel51/fiftyone.git ./fiftyone --depth 1"
   ]
  },
  {
   "cell_type": "code",
   "execution_count": null,
   "id": "e108a020",
   "metadata": {},
   "outputs": [],
   "source": [
    "# remove\n",
    "!rm -rf ./fiftyone"
   ]
  },
  {
   "cell_type": "markdown",
   "id": "837f5a48",
   "metadata": {},
   "source": [
    "# Setup"
   ]
  },
  {
   "cell_type": "markdown",
   "id": "d4f47b48",
   "metadata": {},
   "source": [
    "## Fix values"
   ]
  },
  {
   "cell_type": "code",
   "execution_count": null,
   "id": "7628965a",
   "metadata": {},
   "outputs": [],
   "source": [
    "import json\n",
    "log_path = '/opt/ml/metadata/resource-metadata.json'\n",
    "with open(log_path, 'r') as logs:\n",
    "    _logs = json.load(logs)\n",
    "INSTANCE_NAME = _logs['ResourceName']\n",
    "F1_HOST = f\"https://{INSTANCE_NAME}.notebook.eu-central-1.sagemaker.aws\"\n",
    "F1_PORT = 6008\n",
    "%env F1_HOST={F1_HOST}\n",
    "%env F1_PORT={F1_PORT}"
   ]
  },
  {
   "cell_type": "code",
   "execution_count": null,
   "id": "aed81133",
   "metadata": {},
   "outputs": [],
   "source": [
    "%%bash\n",
    "cd ./fiftyone/app/packages/app/\n",
    "if [ -f \".env\" ] ; then\n",
    "    rm \".env\"\n",
    "fi\n",
    "if [ -f \".env.development\" ] ; then\n",
    "    rm \".env.development\"\n",
    "fi\n",
    "if [ -f \".env.development.local\" ] ; then\n",
    "    rm \".env.development.local\"\n",
    "fi\n",
    "echo \"VITE_API=$F1_HOST/proxy/$F1_PORT\" >> .env\n",
    "cat .env\n",
    "cd ../../../../"
   ]
  },
  {
   "cell_type": "code",
   "execution_count": null,
   "id": "014fbbdf",
   "metadata": {},
   "outputs": [],
   "source": [
    "# Fix package.json\n",
    "old_value = 'vite build\",'\n",
    "new_value = f'vite build --base=/proxy/{F1_PORT}/\",'\n",
    "!sed -i 's+{old_value}+{new_value}+g' ./fiftyone/app/packages/app/package.json"
   ]
  },
  {
   "cell_type": "code",
   "execution_count": null,
   "id": "2bbb8a54",
   "metadata": {
    "scrolled": true
   },
   "outputs": [],
   "source": [
    "!cat fiftyone/app/packages/app/package.json"
   ]
  },
  {
   "cell_type": "code",
   "execution_count": null,
   "id": "9be01438",
   "metadata": {},
   "outputs": [],
   "source": [
    "# Fix context.py\n",
    "old_value = 'http://{address}:{port}/'\n",
    "new_value = f'{F1_HOST}/proxy/{F1_PORT}/'\n",
    "!sed -i \"s+{old_value}+{new_value}+g\" ./fiftyone/fiftyone/core/context.py"
   ]
  },
  {
   "cell_type": "code",
   "execution_count": null,
   "id": "3a04a151",
   "metadata": {},
   "outputs": [],
   "source": [
    "# Fix context.py\n",
    "old_value = '?context='\n",
    "new_value = '?polling=true\\&context='\n",
    "!sed -i \"s+{old_value}+{new_value}+g\" ./fiftyone/fiftyone/core/context.py"
   ]
  },
  {
   "cell_type": "code",
   "execution_count": null,
   "id": "212fc25b",
   "metadata": {
    "scrolled": true
   },
   "outputs": [],
   "source": [
    "!cat ./fiftyone/fiftyone/core/context.py"
   ]
  },
  {
   "cell_type": "markdown",
   "id": "26b328b3",
   "metadata": {},
   "source": [
    "## Build NodeJS app"
   ]
  },
  {
   "cell_type": "code",
   "execution_count": null,
   "id": "884f3d48",
   "metadata": {},
   "outputs": [],
   "source": [
    "!chmod +x ./install.bash\n",
    "!./install.bash -p"
   ]
  },
  {
   "cell_type": "markdown",
   "id": "53e2e878",
   "metadata": {},
   "source": [
    "## Install"
   ]
  },
  {
   "cell_type": "code",
   "execution_count": null,
   "id": "dca9a05c",
   "metadata": {
    "scrolled": true
   },
   "outputs": [],
   "source": [
    "!chmod +x ./install.bash\n",
    "!./install.bash -e"
   ]
  },
  {
   "cell_type": "markdown",
   "id": "3b66f852",
   "metadata": {},
   "source": [
    "# Launch"
   ]
  },
  {
   "cell_type": "code",
   "execution_count": null,
   "id": "8ef82c1f",
   "metadata": {},
   "outputs": [],
   "source": [
    "%env FIFTYONE_DATABASE_URI=mongodb://127.0.0.1:27017"
   ]
  },
  {
   "cell_type": "code",
   "execution_count": null,
   "id": "dbd2610b",
   "metadata": {},
   "outputs": [],
   "source": [
    "import fiftyone as fo"
   ]
  },
  {
   "cell_type": "code",
   "execution_count": null,
   "id": "dbab66d4",
   "metadata": {},
   "outputs": [],
   "source": [
    "fo.config"
   ]
  },
  {
   "cell_type": "code",
   "execution_count": null,
   "id": "585e7d65",
   "metadata": {},
   "outputs": [],
   "source": [
    "# Remove old dataset if existing\n",
    "if \"COCO2017\" in fo.list_datasets():\n",
    "    dataset = fo.load_dataset(\"COCO2017\")\n",
    "    dataset.delete()\n",
    "dataset = fo.Dataset.from_dir(\n",
    "    dataset_dir=\"/tmp/bucket/dataset/images_classified_grouped_V2/A5/\",\n",
    "    dataset_type=fo.types.ImageDirectory,\n",
    "    name=\"COCO2017\",\n",
    ")"
   ]
  },
  {
   "cell_type": "code",
   "execution_count": null,
   "id": "0c5905f6",
   "metadata": {},
   "outputs": [],
   "source": [
    "from IPython.core.display import display, HTML\n",
    "from uuid import uuid4\n",
    "\n",
    "session = fo.launch_app(dataset, port=6008, auto=False)\n",
    "\n",
    "uuid = str(uuid4())\n",
    "print(uuid)\n",
    "URL = session.url + f\"?subscription={uuid}&polling=true\"\n",
    "display(\n",
    "    HTML(\n",
    "        \"\"\"\n",
    "        <a href=\"{}\" target=\"_blank\"><h1>Open session in a new tab</h1></a>\n",
    "        \"\"\".format(URL)\n",
    "    )\n",
    ")"
   ]
  },
  {
   "cell_type": "code",
   "execution_count": null,
   "id": "8b459ff0",
   "metadata": {},
   "outputs": [],
   "source": [
    "# Run this to use the app here\n",
    "session.show()"
   ]
  },
  {
   "cell_type": "markdown",
   "id": "63605b9a",
   "metadata": {},
   "source": [
    "### Start server manually"
   ]
  },
  {
   "cell_type": "code",
   "execution_count": null,
   "id": "4c0ccb0e",
   "metadata": {},
   "outputs": [],
   "source": [
    "%cd fiftyone"
   ]
  },
  {
   "cell_type": "code",
   "execution_count": null,
   "id": "cbc43b14",
   "metadata": {},
   "outputs": [],
   "source": [
    "!python ./fiftyone/server/main.py --port 6008"
   ]
  }
 ],
 "metadata": {
  "kernelspec": {
   "display_name": "Python 3.8.13 ('fiftyone')",
   "language": "python",
   "name": "python3"
  },
  "language_info": {
   "codemirror_mode": {
    "name": "ipython",
    "version": 3
   },
   "file_extension": ".py",
   "mimetype": "text/x-python",
   "name": "python",
   "nbconvert_exporter": "python",
   "pygments_lexer": "ipython3",
   "version": "3.8.13"
  },
  "vscode": {
   "interpreter": {
    "hash": "7c968b702c994f3c5ed0f77b27ff251407291d7a7b4be38b7e56c48a55f5fd32"
   }
  }
 },
 "nbformat": 4,
 "nbformat_minor": 5
}
