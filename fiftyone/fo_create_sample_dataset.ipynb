{
 "cells": [
  {
   "cell_type": "markdown",
   "id": "82d5488b",
   "metadata": {},
   "source": [
    "### Import"
   ]
  },
  {
   "cell_type": "code",
   "execution_count": null,
   "id": "dbd2610b",
   "metadata": {},
   "outputs": [],
   "source": [
    "%env FIFTYONE_DATABASE_URI=mongodb://127.0.0.1:27017\n",
    "import fiftyone as fo"
   ]
  },
  {
   "cell_type": "markdown",
   "id": "f09e470a",
   "metadata": {},
   "source": [
    "### Create dataset"
   ]
  },
  {
   "cell_type": "code",
   "execution_count": null,
   "id": "585e7d65",
   "metadata": {},
   "outputs": [],
   "source": [
    "DATASET_NAME = \"COCO2017\"\n",
    "DATASET_DIR = \"/tmp/bucket/...\"\n",
    "\n",
    "# Remove old dataset if existing\n",
    "if \"COCO2017\" in fo.list_datasets():\n",
    "    dataset = fo.load_dataset(\"COCO2017\")\n",
    "    dataset.delete()\n",
    "dataset = fo.Dataset.from_dir(\n",
    "    dataset_dir=DATASET_DIR,\n",
    "    dataset_type=fo.types.ImageDirectory,\n",
    "    name=DATASET_NAME,\n",
    ")"
   ]
  },
  {
   "cell_type": "markdown",
   "id": "85a50d69",
   "metadata": {},
   "source": [
    "### Start session"
   ]
  },
  {
   "cell_type": "code",
   "execution_count": null,
   "id": "0c5905f6",
   "metadata": {},
   "outputs": [],
   "source": [
    "from IPython.core.display import display, HTML\n",
    "from uuid import uuid4\n",
    "\n",
    "session = fo.launch_app(dataset, port=6008, auto=False)\n",
    "\n",
    "uuid = str(uuid4())\n",
    "print(uuid)\n",
    "URL = session.url + f\"?subscription={uuid}&polling=true\"\n",
    "display(\n",
    "    HTML(\n",
    "        \"\"\"\n",
    "        <a href=\"{}\" target=\"_blank\"><h1>Open session in a new tab</h1></a>\n",
    "        \"\"\".format(URL)\n",
    "    )\n",
    ")"
   ]
  },
  {
   "cell_type": "markdown",
   "id": "775d754c",
   "metadata": {},
   "source": [
    "### Launch in notebook"
   ]
  },
  {
   "cell_type": "code",
   "execution_count": null,
   "id": "8b459ff0",
   "metadata": {},
   "outputs": [],
   "source": [
    "# Run this to use the app here\n",
    "session.show()"
   ]
  }
 ],
 "metadata": {
  "kernelspec": {
   "display_name": "Python 3.8.2 ('torch')",
   "language": "python",
   "name": "python3"
  },
  "language_info": {
   "codemirror_mode": {
    "name": "ipython",
    "version": 3
   },
   "file_extension": ".py",
   "mimetype": "text/x-python",
   "name": "python",
   "nbconvert_exporter": "python",
   "pygments_lexer": "ipython3",
   "version": "3.8.2"
  },
  "vscode": {
   "interpreter": {
    "hash": "a3f03ebc105b29fd6bb39b44c341439c9cde9d6127fa0a6bb8b0fcc0900aba74"
   }
  }
 },
 "nbformat": 4,
 "nbformat_minor": 5
}
