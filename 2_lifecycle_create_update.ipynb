{
 "cells": [
  {
   "cell_type": "code",
   "execution_count": null,
   "id": "35fe8f97-218c-47b7-b03d-167a88dcbefb",
   "metadata": {
    "tags": []
   },
   "outputs": [],
   "source": [
    "%pip install python-dotenv"
   ]
  },
  {
   "cell_type": "markdown",
   "id": "7394ecc1-aa6a-499f-a658-a9cf8c7e6ce1",
   "metadata": {},
   "source": [
    "## Load env"
   ]
  },
  {
   "cell_type": "markdown",
   "id": "b602a432-e23a-4709-9aa8-75617641cfe8",
   "metadata": {},
   "source": [
    "Load configuration data from <i>_configuration.env</i>"
   ]
  },
  {
   "cell_type": "code",
   "execution_count": null,
   "id": "9057083e-d31c-4f4c-8d31-21343aeb7277",
   "metadata": {
    "tags": []
   },
   "outputs": [],
   "source": [
    "from dotenv import load_dotenv\n",
    "\n",
    "load_dotenv(\"_configuration.env\")\n",
    "!echo \"Lifecycle name: ${STCV_LIFECYCLE_NAME}\""
   ]
  },
  {
   "cell_type": "markdown",
   "id": "0f74b284-d103-412f-a0ea-398064c0c6a6",
   "metadata": {},
   "source": [
    "## List existing lifecycles"
   ]
  },
  {
   "cell_type": "markdown",
   "id": "44d4e391-75aa-4378-8873-f2f2b957dcf0",
   "metadata": {},
   "source": [
    "List the lifecycles whose name contains \"it0428\""
   ]
  },
  {
   "cell_type": "code",
   "execution_count": null,
   "id": "be4f3517-bd15-4f9c-aab6-7f61eb0f2aea",
   "metadata": {
    "scrolled": true,
    "tags": []
   },
   "outputs": [],
   "source": [
    "%%bash\n",
    "NAME_CONTAINS=\"it042\"\n",
    "aws sagemaker list-notebook-instance-lifecycle-configs --name-contains ${NAME_CONTAINS}"
   ]
  },
  {
   "cell_type": "markdown",
   "id": "1cc73241-b54b-40ce-8341-85256a192788",
   "metadata": {},
   "source": [
    "## Create a new lifecycle"
   ]
  },
  {
   "cell_type": "markdown",
   "id": "2563f855-f90a-4401-88f2-154990c28744",
   "metadata": {},
   "source": [
    "The script contained into <i>_lifecycle.bash</i> is read and used to create a new lifecycle"
   ]
  },
  {
   "cell_type": "code",
   "execution_count": null,
   "id": "96c6cc9c-1423-4ff4-b2bd-f9fcc02d5ea7",
   "metadata": {},
   "outputs": [],
   "source": [
    "%%bash\n",
    "aws sagemaker create-notebook-instance-lifecycle-config \\\n",
    "    --notebook-instance-lifecycle-config-name \"${STCV_LIFECYCLE_NAME}\" \\\n",
    "    --on-start Content=\"$((cat _lifecycle.bash) | base64 -w 0)\""
   ]
  },
  {
   "cell_type": "markdown",
   "id": "ff2d30d3-4da3-4e78-8b89-ca7c0670c88d",
   "metadata": {},
   "source": [
    "## Update an existing lifecycle"
   ]
  },
  {
   "cell_type": "markdown",
   "id": "8e4d4c9a-f9ff-4ac8-a24a-d33345b5cb39",
   "metadata": {
    "tags": []
   },
   "source": [
    "The script contained into <i>_lifecycle.bash</i> is read and used to update an existing lifecycle"
   ]
  },
  {
   "cell_type": "code",
   "execution_count": null,
   "id": "8a79fc8c-11a6-4116-97bc-d39de0c533ca",
   "metadata": {
    "tags": []
   },
   "outputs": [],
   "source": [
    "%%bash\n",
    "aws sagemaker update-notebook-instance-lifecycle-config \\\n",
    "    --notebook-instance-lifecycle-config-name \"${STCV_LIFECYCLE_NAME}\" \\\n",
    "    --on-start Content=\"$((cat _lifecycle.bash) | base64 -w 0)\""
   ]
  },
  {
   "cell_type": "markdown",
   "id": "382979c0-b4fb-495d-8097-b21ca193af1a",
   "metadata": {},
   "source": [
    "## Describe an existing lifecycle"
   ]
  },
  {
   "cell_type": "markdown",
   "id": "99037f05-f4c1-44ac-95eb-b2ab4c15c3fc",
   "metadata": {},
   "source": [
    "The script of an existing lifecycle is retrieved and shown"
   ]
  },
  {
   "cell_type": "code",
   "execution_count": null,
   "id": "3d6fb596-5fa1-47bf-9c48-c218672ed079",
   "metadata": {
    "tags": []
   },
   "outputs": [],
   "source": [
    "%%bash\n",
    "rm -rf _describe_output.txt\n",
    "aws sagemaker describe-notebook-instance-lifecycle-config \\\n",
    "    --notebook-instance-lifecycle-config-name \"${STCV_LIFECYCLE_NAME}\" >> _describe_output.txt"
   ]
  },
  {
   "cell_type": "code",
   "execution_count": null,
   "id": "8f768865-5db3-4658-a383-36d68417a150",
   "metadata": {
    "scrolled": true,
    "tags": []
   },
   "outputs": [],
   "source": [
    "import base64\n",
    "from pathlib import Path\n",
    "\n",
    "encoded = eval(Path(\"_describe_output.txt\").read_text())[\"OnStart\"][0][\"Content\"]\n",
    "decoded = base64.b64decode(encoded).decode()\n",
    "print(decoded)"
   ]
  },
  {
   "cell_type": "markdown",
   "id": "7f638dac-85cd-4f02-ba21-a6c7b6eb1dbf",
   "metadata": {},
   "source": [
    "## Delete an existing lifecycle"
   ]
  },
  {
   "cell_type": "markdown",
   "id": "a4e25e21-ad41-4adb-941b-11e8028bf600",
   "metadata": {},
   "source": [
    "An existing lifecycle is removed"
   ]
  },
  {
   "cell_type": "code",
   "execution_count": null,
   "id": "9cd59b30-beb8-4401-91a6-87155e093464",
   "metadata": {},
   "outputs": [],
   "source": [
    "%%bash\n",
    "aws sagemaker delete-notebook-instance-lifecycle-config \\\n",
    "    --notebook-instance-lifecycle-config-name \"${STCV_LIFECYCLE_NAME}\""
   ]
  },
  {
   "cell_type": "code",
   "execution_count": null,
   "id": "1b0f5398-84ec-41e2-8af9-98f7e158819b",
   "metadata": {},
   "outputs": [],
   "source": []
  }
 ],
 "metadata": {
  "kernelspec": {
   "display_name": "conda_python3",
   "language": "python",
   "name": "conda_python3"
  },
  "language_info": {
   "codemirror_mode": {
    "name": "ipython",
    "version": 3
   },
   "file_extension": ".py",
   "mimetype": "text/x-python",
   "name": "python",
   "nbconvert_exporter": "python",
   "pygments_lexer": "ipython3",
   "version": "3.10.10"
  }
 },
 "nbformat": 4,
 "nbformat_minor": 5
}
